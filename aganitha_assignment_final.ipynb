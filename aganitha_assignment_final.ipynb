{
  "nbformat": 4,
  "nbformat_minor": 0,
  "metadata": {
    "colab": {
      "provenance": [],
      "authorship_tag": "ABX9TyOLEnr9xDj6XkfIXGs2g+qd",
      "include_colab_link": true
    },
    "kernelspec": {
      "name": "python3",
      "display_name": "Python 3"
    },
    "language_info": {
      "name": "python"
    }
  },
  "cells": [
    {
      "cell_type": "markdown",
      "metadata": {
        "id": "view-in-github",
        "colab_type": "text"
      },
      "source": [
        "<a href=\"https://colab.research.google.com/github/abhishekshah5486/aganitha_assignment/blob/main/aganitha_assignment_final.ipynb\" target=\"_parent\"><img src=\"https://colab.research.google.com/assets/colab-badge.svg\" alt=\"Open In Colab\"/></a>"
      ]
    },
    {
      "cell_type": "code",
      "execution_count": 14,
      "metadata": {
        "id": "TozlSCv0Bqj0"
      },
      "outputs": [],
      "source": [
        "import requests\n",
        "import re\n",
        "import csv\n",
        "import xml.etree.ElementTree as ET\n",
        "from typing import List, Dict, Tuple"
      ]
    },
    {
      "cell_type": "code",
      "source": [
        "BASE_URL = \"https://eutils.ncbi.nlm.nih.gov/entrez/eutils/esearch.fcgi\"\n",
        "EFETCH_URL = \"https://eutils.ncbi.nlm.nih.gov/entrez/eutils/efetch.fcgi\""
      ],
      "metadata": {
        "id": "2nnqVeksBwQZ"
      },
      "execution_count": 15,
      "outputs": []
    },
    {
      "cell_type": "code",
      "source": [
        "class PubMedFetcher():\n",
        "  def __init__(self, search_query: str, batch_size: int = 200):\n",
        "    self.search_query = search_query\n",
        "    self.batch_size = batch_size\n",
        "    self.pubmed_ids = None\n",
        "\n",
        "  def fetch_pubmed_ids(self) -> List[str]:\n",
        "    params = {\n",
        "        'db': 'pubmed',\n",
        "        'term': self.search_query,\n",
        "        'usehistory': 'y'\n",
        "    }\n",
        "    pubmed_ids = []\n",
        "    try:\n",
        "      response = requests.get(BASE_URL, params=params, timeout=10)\n",
        "      response.raise_for_status()\n",
        "      root = ET.fromstring(response.text)\n",
        "      self.pubmed_ids = [id_elem.text for id_elem in root.findall('.//Id')]\n",
        "      if not self.pubmed_ids:\n",
        "        print(\"Warning: No PubMed IDs found for the given query.\")\n",
        "      return self.pubmed_ids\n",
        "\n",
        "    except requests.exceptions.RequestException as e:\n",
        "      print(f\"Error fetching PubMed Ids: {e}\")\n",
        "      return []\n",
        "\n",
        "    except ET.ParseError as e:\n",
        "      print(\"Error: Unable to parse PubMed response.\")\n",
        "      return []\n",
        "\n",
        "  def retrieve_paper_details(self, pubmed_ids: List[str]) -> List[ET.Element]:\n",
        "    all_papers = []\n",
        "    if not self.pubmed_ids:\n",
        "      print(\"Error: No PubMed IDs provided.\")\n",
        "      return []\n",
        "\n",
        "    for i in range(0, len(self.pubmed_ids), self.batch_size):\n",
        "      list_pubmed_ids = ','.join(self.pubmed_ids[i : i + self.batch_size])\n",
        "      params = {\n",
        "        'db': 'pubmed',\n",
        "        'retmode': 'xml',\n",
        "        'id': list_pubmed_ids\n",
        "      }\n",
        "      try:\n",
        "        response = requests.get(EFETCH_URL, params=params)\n",
        "        response.raise_for_status()\n",
        "        parsed_xml_response = ET.fromstring(response.text)\n",
        "        all_papers.append(parsed_xml_response)\n",
        "      except requests.exceptions.RequestException as e:\n",
        "        print(f\"Error retrieving paper details: {e}\")\n",
        "\n",
        "      except ET.ParseError as e:\n",
        "        print(\"Error: Unable to parse paper details response.\")\n",
        "    return all_papers"
      ],
      "metadata": {
        "id": "oVOhDxeaCrf-"
      },
      "execution_count": 16,
      "outputs": []
    },
    {
      "cell_type": "code",
      "source": [
        "class PubMedParser():\n",
        "  email_pattern = r\"[a-zA-Z0-9._%+-]+@[a-zA-Z0-9.-]+\\.[a-zA-Z]{2,}\"\n",
        "  academic_keywords = ['university', 'school', 'institute', 'department', 'college', 'lab', 'academy']\n",
        "  academic_domains = ['edu', 'ac', '.org', '.gov']\n",
        "\n",
        "  @staticmethod\n",
        "  def _parse_paper_metadata(paper_elements: List[ET.Element]) -> List[List[str]]:\n",
        "    parsed_metadata = []\n",
        "\n",
        "    for root in paper_elements:\n",
        "      pubmed_articles = root.findall('.//PubmedArticle')\n",
        "      for article in pubmed_articles:\n",
        "        try:\n",
        "          pubmed_id = PubMedParser._extract_pubmed_id(article)\n",
        "          article_title = PubMedParser._get_article_title(article)\n",
        "          publication_date = PubMedParser._extract_publication_date(article)\n",
        "          non_academic_authors, company_affiliations, corresponding_author_emails = PubMedParser._extract_authors(article)\n",
        "\n",
        "          \"\"\" Including research papers with at least one non-academic author or papers with at least one author aliated with a pharmaceutical or biotech\n",
        "              company\n",
        "          \"\"\"\n",
        "          if len(non_academic_authors) > 0:\n",
        "            non_academic_authors_str = ', '.join(non_academic_authors)\n",
        "            company_affiliations_str = ', '.join(company_affiliations)\n",
        "            corresponding_author_emails_str = list(filter(lambda x: x[1], corresponding_author_emails))\n",
        "            paper_metadata = [pubmed_id, article_title, publication_date, non_academic_authors_str, company_affiliations_str, corresponding_author_emails_str]\n",
        "            parsed_metadata.append(paper_metadata)\n",
        "\n",
        "        except Exception as e:\n",
        "          print(f\"Error retrieving paper metadata: {e}\")\n",
        "\n",
        "    return parsed_metadata\n",
        "\n",
        "  @staticmethod\n",
        "  def _extract_pubmed_id(article: ET.Element) -> str:\n",
        "    pubmed_id_elem = article.find('.//PMID')\n",
        "    if pubmed_id_elem is not None:\n",
        "      pubmed_id = pubmed_id_elem.text\n",
        "      return pubmed_id\n",
        "\n",
        "    return \"PubMed ID Not Available\"\n",
        "\n",
        "  @staticmethod\n",
        "  def _get_article_title(article: ET.Element) -> str:\n",
        "    article_title_elem = article.find('.//ArticleTitle')\n",
        "    if article_title_elem is not None:\n",
        "        return article_title_elem.text\n",
        "\n",
        "    return \"Title Not Available\"\n",
        "\n",
        "\n",
        "  @staticmethod\n",
        "  def _extract_publication_date(article: ET.Element) -> str:\n",
        "    pub_date_elem = article.find('.//PubDate')\n",
        "    year_elem = pub_date_elem.find('.//Year')\n",
        "    if year_elem is not None:\n",
        "      year = year_elem.text\n",
        "      month_elem = pub_date_elem.find('.//Month')\n",
        "      month = month_elem.text if month_elem is not None else '01' # Default to January if month is missing\n",
        "      day_elem = pub_date_elem.find('.//Day')\n",
        "      day = day_elem.text if day_elem is not None else '01' # Default to first day if day is missing\n",
        "      pub_date = f\"{year}-{month.zfill(2)}-{day.zfill(2)}\"\n",
        "      return pub_date\n",
        "    else:\n",
        "      return \"Publication date not available\"\n"
      ],
      "metadata": {
        "id": "5stjpqh3Cup8"
      },
      "execution_count": 17,
      "outputs": []
    },
    {
      "cell_type": "code",
      "source": [
        "def _extract_authors(article: ET.Element) -> Tuple[List[str], List[str], List[str]]:\n",
        "  \"\"\"\n",
        "  Extracts author names, company affiliations, and corresponding author emails.\n",
        "\n",
        "  Returns:\n",
        "    - List of non-academic authors (company-affiliated).\n",
        "    - List of company names associated with authors.\n",
        "    - List of tuples (Author Name, Corresponding Email).\n",
        "  \"\"\"\n",
        "\n",
        "  non_academic_authors = []\n",
        "  company_affiliations = set()\n",
        "  corresponding_author_emails = []\n",
        "  author_elements = article.findall('.//Author')\n",
        "  for author in author_elements:\n",
        "    author_full_name = PubMedParser.retrieve_author_full_name(author)\n",
        "    affiliation = PubMedParser._get_affiliation(author)\n",
        "    corresponding_author_email = PubMedParser._retrieve_corresponding_author_email(author)\n",
        "\n",
        "    if (PubMedParser._is_academic_affiliation(affiliation) or PubMedParser._is_academic_email(corresponding_author_email)):\n",
        "      continue\n",
        "    non_academic_authors.append(author_full_name)\n",
        "    company_affiliations.add(affiliation)\n",
        "    corresponding_author_emails.append((author_full_name, corresponding_author_email))\n",
        "\n",
        "  return non_academic_authors, list(company_affiliations), corresponding_author_emails\n",
        "\n",
        "PubMedParser._extract_authors = staticmethod(_extract_authors)"
      ],
      "metadata": {
        "id": "zekdseiQCQXI"
      },
      "execution_count": 18,
      "outputs": []
    },
    {
      "cell_type": "code",
      "source": [
        "def retrieve_author_full_name(author: ET.Element) -> str:\n",
        "  \"\"\"Extracts and formats the author's full name.\"\"\"\n",
        "  first_name = author.find('.//ForeName')\n",
        "  last_name = author.find('.//LastName')\n",
        "  first_name = first_name.text if first_name is not None else ''\n",
        "  last_name = last_name.text if last_name is not None else ''\n",
        "  author_name = f\"{first_name} {last_name}\"\n",
        "  return author_name\n",
        "\n",
        "PubMedParser.retrieve_author_full_name = staticmethod(retrieve_author_full_name)"
      ],
      "metadata": {
        "id": "t_0qkpri9AaY"
      },
      "execution_count": 19,
      "outputs": []
    },
    {
      "cell_type": "code",
      "source": [
        "def _get_affiliation(author: ET.Element) -> str:\n",
        "  \"\"\"Extracts the author's affiliation if available.\"\"\"\n",
        "  affiliation_elem = author.find('.//Affiliation')\n",
        "  affiliation = \"\"\n",
        "\n",
        "  if affiliation_elem is not None:\n",
        "    affiliation = affiliation_elem.text.strip()\n",
        "    return affiliation\n",
        "  return \"Affiliation not available\"\n",
        "\n",
        "PubMedParser._get_affiliation = staticmethod(_get_affiliation)"
      ],
      "metadata": {
        "id": "4VOV13xaAJEp"
      },
      "execution_count": 20,
      "outputs": []
    },
    {
      "cell_type": "code",
      "source": [
        "def _is_academic_affiliation(affiliation: str) -> bool:\n",
        "  \"\"\"Checks if an affiliation is academic using heuristics email addresses, words like\n",
        "      university, labs etc)\"\"\"\n",
        "  if any(keyword in affiliation.lower() for keyword in PubMedParser.academic_keywords):\n",
        "    return True\n",
        "  return False\n",
        "\n",
        "PubMedParser._is_academic_affiliation = _is_academic_affiliation"
      ],
      "metadata": {
        "id": "A0JFbOLYeR27"
      },
      "execution_count": 21,
      "outputs": []
    },
    {
      "cell_type": "code",
      "source": [
        "def _is_academic_email(email: str) -> bool:\n",
        "  \"\"\"Checks if the email domain contains any academic domain keywords.\"\"\"\n",
        "  if email:\n",
        "    domain = email.split('@')[-1].lower()\n",
        "    for academic_domain in PubMedParser.academic_domains:\n",
        "      if academic_domain in domain:\n",
        "        return True\n",
        "  return False\n",
        "PubMedParser._is_academic_email = _is_academic_email"
      ],
      "metadata": {
        "id": "k3cQXYLVgc6N"
      },
      "execution_count": 22,
      "outputs": []
    },
    {
      "cell_type": "code",
      "source": [
        "def _retrieve_corresponding_author_email(author: ET.Element) -> str:\n",
        "   \"\"\"Extracts the author's email if available and non-academic.\"\"\"\n",
        "   affiliation_text = PubMedParser._get_affiliation(author).lower()\n",
        "   email_match = re.search(PubMedParser.email_pattern, affiliation_text)\n",
        "\n",
        "   email = None\n",
        "   if email_match:\n",
        "    email = email_match.group(0)\n",
        "   return email\n",
        "\n",
        "PubMedParser._retrieve_corresponding_author_email = staticmethod(_retrieve_corresponding_author_email)"
      ],
      "metadata": {
        "id": "eDcWZ5fCBTsG"
      },
      "execution_count": 23,
      "outputs": []
    },
    {
      "cell_type": "code",
      "source": [
        "class CSVWriter():\n",
        "  @staticmethod\n",
        "  def _save_to_csv(parsed_metadata: List[List[str]], filename: str = 'pubmed_results.csv'):\n",
        "    headers = [\"PubmedID\", \"Title\", \"Publication Date\", \"Non-academic Author(s)\", \"Company Affiliation(s)\", \"Corresponding Author Email(s)\"]\n",
        "    try:\n",
        "      with open(filename, mode='w', newline=\"\", encoding='utf-8') as file:\n",
        "        writer = csv.writer(file)\n",
        "        writer.writerow(headers)\n",
        "        for row in parsed_metadata:\n",
        "          row[5] =  \"; \".join([f\"{author_name} - {author_email}\" for author_name, author_email in row[5]])\n",
        "          writer.writerow(row)\n",
        "\n",
        "        print(f\"Results saved to {filename}\")\n",
        "\n",
        "    except Exception as e:\n",
        "      print(f\"Error saving results to CSV file: {e}\")"
      ],
      "metadata": {
        "id": "ZzGQLsTZPhbi"
      },
      "execution_count": 24,
      "outputs": []
    },
    {
      "cell_type": "code",
      "source": [
        "if __name__ == \"__main__\":\n",
        "\n",
        "    query = 'cancer AND brain'\n",
        "    fetcher = PubMedFetcher(query)\n",
        "    pubmed_ids = fetcher.fetch_pubmed_ids()\n",
        "    paper_elements = fetcher.retrieve_paper_details(pubmed_ids)\n",
        "    parsed_data = PubMedParser._parse_paper_metadata(paper_elements)\n",
        "    CSVWriter._save_to_csv(parsed_data)\n"
      ],
      "metadata": {
        "colab": {
          "base_uri": "https://localhost:8080/"
        },
        "id": "spWb0yUj8N-s",
        "outputId": "2662b55d-3167-4bb6-814a-4d0fe84ebebf"
      },
      "execution_count": 25,
      "outputs": [
        {
          "output_type": "stream",
          "name": "stdout",
          "text": [
            "Results saved to pubmed_results.csv\n"
          ]
        }
      ]
    },
    {
      "cell_type": "code",
      "source": [],
      "metadata": {
        "id": "30BEo377E8ay"
      },
      "execution_count": 25,
      "outputs": []
    }
  ]
}